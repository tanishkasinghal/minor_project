{
 "cells": [
  {
   "cell_type": "code",
   "execution_count": 1,
   "metadata": {},
   "outputs": [],
   "source": [
    "state={'RAJASTHAN':1}\n",
    "district = {'JHUNJHUNUN':1, 'SIROHI':2, 'ALWAR':3, 'DHAULPUR':4, 'BIKANER':5, 'JHALAWAR':6,\n",
    "       'JODHPUR':7, 'JAIPUR':8, 'JAISALMER':9, 'KOTA':10, 'SIKAR':11, 'TONK':12,\n",
    "       'UDAIPUR':13}\n",
    "deceased_sex = {'Female':1,'Male':2}\n",
    "treatment_source={'Private Hospital':1,'Government Hospital':2,\n",
    "                  'No Medical attention':3,'Private Dispensary/Clinic':4,\n",
    "                  'Government PHC':5,'At Home':6,'Others':7,\n",
    "                  'Private AYUSH Hospital/Clinic':8,'NGO or Trust Hosp/Clinic':9,\n",
    "                  'Government CHC':10,'Government UHC/UHP/UFWC':11,\n",
    "                  'Government Sub Center':12,'Government Dispensary/Clinic':13\n",
    "                 ,'Government AYUSH Hospital/Clinic':14,'null':0,'19':7,'45':7,'14':7,'55':7}\n",
    "marital_status = {'Married and Gauna performed':1, 'Widow/Widower':2, 'Never married':3, 'Separated':4, \n",
    "                  'Married but Gauna not performed':5, 'Remarried':6,\n",
    "       'Not stated':7, 'Divorced':8,'null':0}\n",
    "highest_qualification={'Literate With formal education-Post Grad/ M.Tech/M.B.A/ MD/Equivalent or higher':1,\n",
    "                       'Literate with formal education-Graduate/B.Tech/B.B.A/MBBS/Equivalent':2,\n",
    "                       'Literate With formal education-Middle':3,\n",
    "                       'Literate With formal education-Secondary/Matric (Class-X)':4,\n",
    "                       'Literate With formal education-Below primary':5,\n",
    "                       'Literate Without formal education':6,'Literate With formal education-Primary':7,\n",
    "                       'null':0,'Literate With formal education-Hr. Secondary/Sr. Secondary/Pre-university (Class XII)':8\n",
    "                       ,'Illiterate':9,\n",
    "                       'Literate With formal education-Non-technical/Technical diploma or certificate not equivalent to a degree':10}\n",
    "drinking_water_source={'Piped water into dwelling/yard/plot':1,'Public tap/standpipe':2,'Tube well or Borehole':3, \n",
    "                       'Hand pump':4, 'Unprotected dug well':5,\n",
    "       'Tanker /truck/Cart with Surface watersmall tank':6, 'Surface water':7,\n",
    "       'other sources':8, 'Protected dug well':9,'null':0}\n",
    "toilet_used={'Flush/Pour flush latrine connected:-To piped sewer system':1,\n",
    "       'open defecation(field, brush,jungle etc.)':2, 'To septic tank':3,\n",
    "       'Pit latrine with slab':4, 'To pit latrine':5, 'To somewhere else':6,\n",
    "       'community toilet':7,\n",
    "       'Pit latrine(without flush/ pour flush):-Ventilated Improved Pit(VIP)':8,\n",
    "       'Open pit /Pit latrine without slab':9,'service latrine':10,'null':0}\n",
    "death_symptoms ={'Hypothermia':1, 'Fever with Jaundice':2, 'Others':3, 'Infections':4,\n",
    "       'Preterm birth/ Low birth weight baby not thriving':5,\n",
    "       'Bleeding from umbilicus & elsewhere':6,\n",
    "       'Convulsions soon after birth':7, 'Diarrhoea / Dysentery':8,\n",
    "       'Asphyxia':9, 'Fever with rash':10, 'Birth injuries':11,\n",
    "       'Respiratory Infection':12, 'Fever with convulsions':13, 'Jaundice':14,\n",
    "       'Congenital/birth defects':15,'null':0}\n",
    "is_death_associated_with_preg = {'No':2, 'null':0, '0':0, 'Yes':1}"
   ]
  },
  {
   "cell_type": "code",
   "execution_count": 15,
   "metadata": {},
   "outputs": [],
   "source": [
    "subject = ['RAJASTHAN', 'JHUNJHUNUN', '1', 'Government Hospital', '1', '2008', 'Congenital/birth defects', 'Yes', 'Separated', 'Illiterate', 'Piped water into dwelling/yard/plot', 'To septic tank']"
   ]
  },
  {
   "cell_type": "code",
   "execution_count": 10,
   "metadata": {},
   "outputs": [],
   "source": [
    "state={'RAJASTHAN':1}"
   ]
  },
  {
   "cell_type": "code",
   "execution_count": 14,
   "metadata": {},
   "outputs": [
    {
     "data": {
      "text/plain": [
       "1"
      ]
     },
     "execution_count": 14,
     "metadata": {},
     "output_type": "execute_result"
    }
   ],
   "source": [
    "state['RAJASTHAN']"
   ]
  },
  {
   "cell_type": "code",
   "execution_count": 22,
   "metadata": {},
   "outputs": [],
   "source": [
    "features=[]\n",
    "x=state[subject[0]]\n",
    "features.append(x)"
   ]
  },
  {
   "cell_type": "code",
   "execution_count": 25,
   "metadata": {},
   "outputs": [],
   "source": [
    "x=district[subject[1]]\n",
    "features.append(x)\n",
    "\n",
    "x=subject[2]\n",
    "features.append(x)\n",
    "\n",
    "x=treatment_source[subject[3]]\n",
    "features.append(x)\n",
    "\n",
    "x=subject[4]\n",
    "features.append(x)\n",
    "\n",
    "x=subject[5]\n",
    "features.append(x)\n",
    "\n",
    "x=death_symptoms[subject[6]]\n",
    "features.append(x)\n",
    "\n",
    "x=is_death_associated_with_preg[subject[7]]\n",
    "features.append(x)\n",
    "\n",
    "x=marital_status[subject[8]]\n",
    "features.append(x)\n",
    "\n",
    "x=highest_qualification[subject[9]]\n",
    "features.append(x)\n",
    "\n",
    "x=drinking_water_source[subject[10]]\n",
    "features.append(x)\n",
    "\n",
    "x=toilet_used[subject[11]]\n",
    "features.append(x)"
   ]
  },
  {
   "cell_type": "code",
   "execution_count": null,
   "metadata": {},
   "outputs": [],
   "source": []
  },
  {
   "cell_type": "code",
   "execution_count": 26,
   "metadata": {},
   "outputs": [
    {
     "data": {
      "text/plain": [
       "[1, 1, 1, '1', 2, 1, '1', 2, '1', '2008', 15, 1, 4, 9, 1, 3]"
      ]
     },
     "execution_count": 26,
     "metadata": {},
     "output_type": "execute_result"
    }
   ],
   "source": [
    "features"
   ]
  },
  {
   "cell_type": "code",
   "execution_count": 27,
   "metadata": {},
   "outputs": [],
   "source": [
    "import findspark\n",
    "findspark.init('/usr/local/spark')\n",
    "from pyspark.sql import SparkSession\n",
    "spark = SparkSession.builder.appName('proj').getOrCreate()"
   ]
  },
  {
   "cell_type": "code",
   "execution_count": 28,
   "metadata": {},
   "outputs": [],
   "source": [
    "data = spark.read.format('csv').load('numdata.csv',header=True,inferSchema=True)"
   ]
  },
  {
   "cell_type": "code",
   "execution_count": 29,
   "metadata": {},
   "outputs": [],
   "source": [
    "from pyspark.ml.classification import DecisionTreeClassifier\n",
    "from pyspark.ml.feature import VectorIndexer,VectorAssembler\n",
    "from pyspark.ml.evaluation import MulticlassClassificationEvaluator"
   ]
  },
  {
   "cell_type": "code",
   "execution_count": 30,
   "metadata": {},
   "outputs": [],
   "source": [
    "from pyspark.ml.regression import DecisionTreeRegressor\n",
    "from pyspark.ml import Pipeline"
   ]
  },
  {
   "cell_type": "code",
   "execution_count": 32,
   "metadata": {},
   "outputs": [],
   "source": [
    "featureColumns=[\n",
    "    'state', 'district', 'age', 'treatment_source',\n",
    "       'month_of_death', 'year_of_death', 'death_symptoms',\n",
    "       'is_death_associated_with_preg', 'marital_status',\n",
    "               'highest_qualification', 'drinking_water_source', 'toilet_used'\n",
    "]"
   ]
  },
  {
   "cell_type": "code",
   "execution_count": 33,
   "metadata": {},
   "outputs": [],
   "source": [
    "assembler = VectorAssembler(inputCols=featureColumns,outputCol=\"features\")"
   ]
  },
  {
   "cell_type": "code",
   "execution_count": 41,
   "metadata": {},
   "outputs": [],
   "source": [
    "assembled = assembler.transform(data)"
   ]
  },
  {
   "cell_type": "code",
   "execution_count": 46,
   "metadata": {},
   "outputs": [],
   "source": [
    "(trainingData,testData) = assembled.randomSplit([0.8,0.2],seed = 13234)"
   ]
  },
  {
   "cell_type": "code",
   "execution_count": 58,
   "metadata": {},
   "outputs": [],
   "source": [
    "ff=trainingData.select('features')"
   ]
  },
  {
   "cell_type": "code",
   "execution_count": 61,
   "metadata": {},
   "outputs": [],
   "source": [
    "lab=trainingData.select('deceased_sex')"
   ]
  },
  {
   "cell_type": "code",
   "execution_count": 63,
   "metadata": {},
   "outputs": [
    {
     "name": "stdout",
     "output_type": "stream",
     "text": [
      "+---+-----+--------+------------+----+----------------+--------------+-------------+--------------+-----------------------------+--------------+---------------------+---------------------+-----------+--------------------+\n",
      "|_c0|state|district|deceased_sex| age|treatment_source|month_of_death|year_of_death|death_symptoms|is_death_associated_with_preg|marital_status|highest_qualification|drinking_water_source|toilet_used|            features|\n",
      "+---+-----+--------+------------+----+----------------+--------------+-------------+--------------+-----------------------------+--------------+---------------------+---------------------+-----------+--------------------+\n",
      "|  0|    1|       1|           2|32.0|               2|             7|         2011|             0|                            0|             2|                    9|                    1|          8|[1.0,1.0,32.0,2.0...|\n",
      "|  0|    1|       2|           2|56.0|               1|            12|         2011|             0|                            0|             2|                    3|                    0|          0|[1.0,2.0,56.0,1.0...|\n",
      "|  0|    1|       4|           1|60.0|               3|            10|         2008|            12|                            0|             1|                    9|                    4|          2|[1.0,4.0,60.0,3.0...|\n",
      "|  0|    1|       5|           1| 0.0|               2|             7|         2011|             0|                            0|             0|                    0|                    0|          0|(12,[0,1,3,4,5],[...|\n",
      "|  0|    1|       6|           2|47.0|               1|             2|         2010|             0|                            0|             1|                    6|                    0|          0|[1.0,6.0,47.0,1.0...|\n",
      "|  0|    1|       7|           2|65.0|               2|            10|         2011|             0|                            0|             1|                    2|                    1|          1|[1.0,7.0,65.0,2.0...|\n",
      "|  0|    1|       8|           1|57.0|               1|            10|         2011|             0|                            2|             1|                    1|                    1|          1|[1.0,8.0,57.0,1.0...|\n",
      "|  0|    1|       9|           2| 0.0|              12|             9|         2010|             0|                            0|             0|                    0|                    0|          0|(12,[0,1,3,4,5],[...|\n",
      "|  0|    1|      10|           1|55.0|               2|             6|         2010|             0|                            2|             1|                    4|                    1|          2|[1.0,10.0,55.0,2....|\n",
      "|  0|    1|      12|           1|57.0|               4|             1|         2011|             0|                            0|             1|                    5|                    2|          2|[1.0,12.0,57.0,4....|\n",
      "|  1|    1|       3|           2|52.0|              10|             6|         2011|             0|                            0|             1|                    3|                    1|          3|[1.0,3.0,52.0,10....|\n",
      "|  1|    1|       4|           2|36.0|               5|            10|         2008|             3|                            0|             1|                    9|                    2|          2|[1.0,4.0,36.0,5.0...|\n",
      "|  1|    1|       5|           2|22.0|              10|             3|         2011|             0|                            0|             1|                    9|                    6|          2|[1.0,5.0,22.0,10....|\n",
      "|  1|    1|       6|           2| 0.0|              10|             8|         2010|             0|                            0|             0|                    0|                    0|          0|(12,[0,1,3,4,5],[...|\n",
      "|  1|    1|       7|           2|57.0|               5|            12|         2011|             0|                            0|             1|                    3|                    1|          1|[1.0,7.0,57.0,5.0...|\n",
      "|  1|    1|       8|           2|31.0|               1|             6|         2011|             0|                            0|             1|                    2|                    1|          1|[1.0,8.0,31.0,1.0...|\n",
      "|  1|    1|       9|           1| 0.0|               5|             8|         2010|             8|                            0|             0|                    0|                    0|          0|(12,[0,1,3,4,5,6]...|\n",
      "|  1|    1|      11|           1|38.0|               3|             0|         2011|             0|                            0|             1|                    3|                    1|          5|[1.0,11.0,38.0,3....|\n",
      "|  1|    1|      12|           2|49.0|               3|             4|         2011|             0|                            0|             1|                    2|                    1|          3|[1.0,12.0,49.0,3....|\n",
      "|  1|    1|      13|           2|60.0|               2|             9|         2011|             0|                            0|             1|                    9|                    4|          2|[1.0,13.0,60.0,2....|\n",
      "+---+-----+--------+------------+----+----------------+--------------+-------------+--------------+-----------------------------+--------------+---------------------+---------------------+-----------+--------------------+\n",
      "only showing top 20 rows\n",
      "\n"
     ]
    }
   ],
   "source": [
    "trainingData.show()"
   ]
  },
  {
   "cell_type": "code",
   "execution_count": 69,
   "metadata": {},
   "outputs": [
    {
     "name": "stdout",
     "output_type": "stream",
     "text": [
      "+--------------------+\n",
      "|            features|\n",
      "+--------------------+\n",
      "|[1.0,1.0,32.0,2.0...|\n",
      "|[1.0,2.0,56.0,1.0...|\n",
      "|[1.0,4.0,60.0,3.0...|\n",
      "|(12,[0,1,3,4,5],[...|\n",
      "|[1.0,6.0,47.0,1.0...|\n",
      "|[1.0,7.0,65.0,2.0...|\n",
      "|[1.0,8.0,57.0,1.0...|\n",
      "|(12,[0,1,3,4,5],[...|\n",
      "|[1.0,10.0,55.0,2....|\n",
      "|[1.0,12.0,57.0,4....|\n",
      "|[1.0,3.0,52.0,10....|\n",
      "|[1.0,4.0,36.0,5.0...|\n",
      "|[1.0,5.0,22.0,10....|\n",
      "|(12,[0,1,3,4,5],[...|\n",
      "|[1.0,7.0,57.0,5.0...|\n",
      "|[1.0,8.0,31.0,1.0...|\n",
      "|(12,[0,1,3,4,5,6]...|\n",
      "|[1.0,11.0,38.0,3....|\n",
      "|[1.0,12.0,49.0,3....|\n",
      "|[1.0,13.0,60.0,2....|\n",
      "+--------------------+\n",
      "only showing top 20 rows\n",
      "\n"
     ]
    }
   ],
   "source": [
    "ff.show()"
   ]
  },
  {
   "cell_type": "code",
   "execution_count": null,
   "metadata": {},
   "outputs": [],
   "source": []
  },
  {
   "cell_type": "code",
   "execution_count": 43,
   "metadata": {},
   "outputs": [],
   "source": [
    "from sklearn import tree"
   ]
  },
  {
   "cell_type": "code",
   "execution_count": 44,
   "metadata": {},
   "outputs": [],
   "source": [
    "clf = tree.DecisionTreeClassifier() "
   ]
  },
  {
   "cell_type": "code",
   "execution_count": 72,
   "metadata": {},
   "outputs": [
    {
     "ename": "ValueError",
     "evalue": "setting an array element with a sequence.",
     "output_type": "error",
     "traceback": [
      "\u001b[0;31m---------------------------------------------------------------------------\u001b[0m",
      "\u001b[0;31mValueError\u001b[0m                                Traceback (most recent call last)",
      "\u001b[0;32m<ipython-input-72-5a576232722f>\u001b[0m in \u001b[0;36m<module>\u001b[0;34m\u001b[0m\n\u001b[0;32m----> 1\u001b[0;31m \u001b[0mclf\u001b[0m\u001b[0;34m.\u001b[0m\u001b[0mfit\u001b[0m\u001b[0;34m(\u001b[0m\u001b[0mff\u001b[0m\u001b[0;34m,\u001b[0m\u001b[0mlab\u001b[0m\u001b[0;34m)\u001b[0m\u001b[0;34m\u001b[0m\u001b[0;34m\u001b[0m\u001b[0m\n\u001b[0m",
      "\u001b[0;32m/usr/local/lib/python3.6/dist-packages/sklearn/tree/tree.py\u001b[0m in \u001b[0;36mfit\u001b[0;34m(self, X, y, sample_weight, check_input, X_idx_sorted)\u001b[0m\n\u001b[1;32m    814\u001b[0m             \u001b[0msample_weight\u001b[0m\u001b[0;34m=\u001b[0m\u001b[0msample_weight\u001b[0m\u001b[0;34m,\u001b[0m\u001b[0;34m\u001b[0m\u001b[0;34m\u001b[0m\u001b[0m\n\u001b[1;32m    815\u001b[0m             \u001b[0mcheck_input\u001b[0m\u001b[0;34m=\u001b[0m\u001b[0mcheck_input\u001b[0m\u001b[0;34m,\u001b[0m\u001b[0;34m\u001b[0m\u001b[0;34m\u001b[0m\u001b[0m\n\u001b[0;32m--> 816\u001b[0;31m             X_idx_sorted=X_idx_sorted)\n\u001b[0m\u001b[1;32m    817\u001b[0m         \u001b[0;32mreturn\u001b[0m \u001b[0mself\u001b[0m\u001b[0;34m\u001b[0m\u001b[0;34m\u001b[0m\u001b[0m\n\u001b[1;32m    818\u001b[0m \u001b[0;34m\u001b[0m\u001b[0m\n",
      "\u001b[0;32m/usr/local/lib/python3.6/dist-packages/sklearn/tree/tree.py\u001b[0m in \u001b[0;36mfit\u001b[0;34m(self, X, y, sample_weight, check_input, X_idx_sorted)\u001b[0m\n\u001b[1;32m    128\u001b[0m         \u001b[0mrandom_state\u001b[0m \u001b[0;34m=\u001b[0m \u001b[0mcheck_random_state\u001b[0m\u001b[0;34m(\u001b[0m\u001b[0mself\u001b[0m\u001b[0;34m.\u001b[0m\u001b[0mrandom_state\u001b[0m\u001b[0;34m)\u001b[0m\u001b[0;34m\u001b[0m\u001b[0;34m\u001b[0m\u001b[0m\n\u001b[1;32m    129\u001b[0m         \u001b[0;32mif\u001b[0m \u001b[0mcheck_input\u001b[0m\u001b[0;34m:\u001b[0m\u001b[0;34m\u001b[0m\u001b[0;34m\u001b[0m\u001b[0m\n\u001b[0;32m--> 130\u001b[0;31m             \u001b[0mX\u001b[0m \u001b[0;34m=\u001b[0m \u001b[0mcheck_array\u001b[0m\u001b[0;34m(\u001b[0m\u001b[0mX\u001b[0m\u001b[0;34m,\u001b[0m \u001b[0mdtype\u001b[0m\u001b[0;34m=\u001b[0m\u001b[0mDTYPE\u001b[0m\u001b[0;34m,\u001b[0m \u001b[0maccept_sparse\u001b[0m\u001b[0;34m=\u001b[0m\u001b[0;34m\"csc\"\u001b[0m\u001b[0;34m)\u001b[0m\u001b[0;34m\u001b[0m\u001b[0;34m\u001b[0m\u001b[0m\n\u001b[0m\u001b[1;32m    131\u001b[0m             \u001b[0my\u001b[0m \u001b[0;34m=\u001b[0m \u001b[0mcheck_array\u001b[0m\u001b[0;34m(\u001b[0m\u001b[0my\u001b[0m\u001b[0;34m,\u001b[0m \u001b[0mensure_2d\u001b[0m\u001b[0;34m=\u001b[0m\u001b[0;32mFalse\u001b[0m\u001b[0;34m,\u001b[0m \u001b[0mdtype\u001b[0m\u001b[0;34m=\u001b[0m\u001b[0;32mNone\u001b[0m\u001b[0;34m)\u001b[0m\u001b[0;34m\u001b[0m\u001b[0;34m\u001b[0m\u001b[0m\n\u001b[1;32m    132\u001b[0m             \u001b[0;32mif\u001b[0m \u001b[0missparse\u001b[0m\u001b[0;34m(\u001b[0m\u001b[0mX\u001b[0m\u001b[0;34m)\u001b[0m\u001b[0;34m:\u001b[0m\u001b[0;34m\u001b[0m\u001b[0;34m\u001b[0m\u001b[0m\n",
      "\u001b[0;32m/usr/local/lib/python3.6/dist-packages/sklearn/utils/validation.py\u001b[0m in \u001b[0;36mcheck_array\u001b[0;34m(array, accept_sparse, accept_large_sparse, dtype, order, copy, force_all_finite, ensure_2d, allow_nd, ensure_min_samples, ensure_min_features, warn_on_dtype, estimator)\u001b[0m\n\u001b[1;32m    494\u001b[0m             \u001b[0;32mtry\u001b[0m\u001b[0;34m:\u001b[0m\u001b[0;34m\u001b[0m\u001b[0;34m\u001b[0m\u001b[0m\n\u001b[1;32m    495\u001b[0m                 \u001b[0mwarnings\u001b[0m\u001b[0;34m.\u001b[0m\u001b[0msimplefilter\u001b[0m\u001b[0;34m(\u001b[0m\u001b[0;34m'error'\u001b[0m\u001b[0;34m,\u001b[0m \u001b[0mComplexWarning\u001b[0m\u001b[0;34m)\u001b[0m\u001b[0;34m\u001b[0m\u001b[0;34m\u001b[0m\u001b[0m\n\u001b[0;32m--> 496\u001b[0;31m                 \u001b[0marray\u001b[0m \u001b[0;34m=\u001b[0m \u001b[0mnp\u001b[0m\u001b[0;34m.\u001b[0m\u001b[0masarray\u001b[0m\u001b[0;34m(\u001b[0m\u001b[0marray\u001b[0m\u001b[0;34m,\u001b[0m \u001b[0mdtype\u001b[0m\u001b[0;34m=\u001b[0m\u001b[0mdtype\u001b[0m\u001b[0;34m,\u001b[0m \u001b[0morder\u001b[0m\u001b[0;34m=\u001b[0m\u001b[0morder\u001b[0m\u001b[0;34m)\u001b[0m\u001b[0;34m\u001b[0m\u001b[0;34m\u001b[0m\u001b[0m\n\u001b[0m\u001b[1;32m    497\u001b[0m             \u001b[0;32mexcept\u001b[0m \u001b[0mComplexWarning\u001b[0m\u001b[0;34m:\u001b[0m\u001b[0;34m\u001b[0m\u001b[0;34m\u001b[0m\u001b[0m\n\u001b[1;32m    498\u001b[0m                 raise ValueError(\"Complex data not supported\\n\"\n",
      "\u001b[0;32m/usr/local/lib/python3.6/dist-packages/numpy/core/numeric.py\u001b[0m in \u001b[0;36masarray\u001b[0;34m(a, dtype, order)\u001b[0m\n\u001b[1;32m    536\u001b[0m \u001b[0;34m\u001b[0m\u001b[0m\n\u001b[1;32m    537\u001b[0m     \"\"\"\n\u001b[0;32m--> 538\u001b[0;31m     \u001b[0;32mreturn\u001b[0m \u001b[0marray\u001b[0m\u001b[0;34m(\u001b[0m\u001b[0ma\u001b[0m\u001b[0;34m,\u001b[0m \u001b[0mdtype\u001b[0m\u001b[0;34m,\u001b[0m \u001b[0mcopy\u001b[0m\u001b[0;34m=\u001b[0m\u001b[0;32mFalse\u001b[0m\u001b[0;34m,\u001b[0m \u001b[0morder\u001b[0m\u001b[0;34m=\u001b[0m\u001b[0morder\u001b[0m\u001b[0;34m)\u001b[0m\u001b[0;34m\u001b[0m\u001b[0;34m\u001b[0m\u001b[0m\n\u001b[0m\u001b[1;32m    539\u001b[0m \u001b[0;34m\u001b[0m\u001b[0m\n\u001b[1;32m    540\u001b[0m \u001b[0;34m\u001b[0m\u001b[0m\n",
      "\u001b[0;31mValueError\u001b[0m: setting an array element with a sequence."
     ]
    }
   ],
   "source": [
    "clf.fit(ff,lab) "
   ]
  },
  {
   "cell_type": "code",
   "execution_count": null,
   "metadata": {},
   "outputs": [],
   "source": [
    "list =['state':]"
   ]
  }
 ],
 "metadata": {
  "kernelspec": {
   "display_name": "Python 3",
   "language": "python",
   "name": "python3"
  },
  "language_info": {
   "codemirror_mode": {
    "name": "ipython",
    "version": 3
   },
   "file_extension": ".py",
   "mimetype": "text/x-python",
   "name": "python",
   "nbconvert_exporter": "python",
   "pygments_lexer": "ipython3",
   "version": "3.6.8"
  }
 },
 "nbformat": 4,
 "nbformat_minor": 2
}
